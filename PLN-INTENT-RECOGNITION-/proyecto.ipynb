{
 "cells": [
  {
   "cell_type": "code",
   "execution_count": 16,
   "metadata": {},
   "outputs": [],
   "source": [
    "import pandas as pd\n",
    "import numpy as np\n",
    "import py3langid as langid\n",
    "import string as stringlib\n",
    "import pickle \n",
    "import nltk\n",
    "from langdetect import detect\n",
    "from nltk.tokenize import word_tokenize\n",
    "from nltk.stem import WordNetLemmatizer\n",
    "from nltk.stem import PorterStemmer\n",
    "from nltk.tag import pos_tag\n",
    "from nltk.probability import FreqDist\n",
    "from recolector import Recolector\n",
    "import matplotlib.pyplot as plt\n"
   ]
  },
  {
   "cell_type": "code",
   "execution_count": 2,
   "metadata": {},
   "outputs": [],
   "source": [
    "# Ya se ejecutó para generar datos_recopilados_p.xlsx\n",
    "\n",
    "# bot = Recolector(20, 6, 10)\n",
    "# bot.generar_datos()\n",
    "\n",
    "df = pd.read_excel('./datos/datos_recopilados_p.xlsx')"
   ]
  },
  {
   "cell_type": "code",
   "execution_count": 3,
   "metadata": {},
   "outputs": [
    {
     "name": "stderr",
     "output_type": "stream",
     "text": [
      "[nltk_data] Downloading package stopwords to\n",
      "[nltk_data]     C:\\Users\\lenovo\\AppData\\Roaming\\nltk_data...\n",
      "[nltk_data]   Package stopwords is already up-to-date!\n",
      "[nltk_data] Downloading package punkt to\n",
      "[nltk_data]     C:\\Users\\lenovo\\AppData\\Roaming\\nltk_data...\n",
      "[nltk_data]   Package punkt is already up-to-date!\n",
      "[nltk_data] Downloading package names to\n",
      "[nltk_data]     C:\\Users\\lenovo\\AppData\\Roaming\\nltk_data...\n",
      "[nltk_data]   Package names is already up-to-date!\n",
      "[nltk_data] Downloading package wordnet to\n",
      "[nltk_data]     C:\\Users\\lenovo\\AppData\\Roaming\\nltk_data...\n",
      "[nltk_data]   Package wordnet is already up-to-date!\n",
      "[nltk_data] Downloading package averaged_perceptron_tagger to\n",
      "[nltk_data]     C:\\Users\\lenovo\\AppData\\Roaming\\nltk_data...\n",
      "[nltk_data]   Package averaged_perceptron_tagger is already up-to-\n",
      "[nltk_data]       date!\n",
      "[nltk_data] Downloading package tagsets to\n",
      "[nltk_data]     C:\\Users\\lenovo\\AppData\\Roaming\\nltk_data...\n",
      "[nltk_data]   Package tagsets is already up-to-date!\n"
     ]
    },
    {
     "data": {
      "text/plain": [
       "True"
      ]
     },
     "execution_count": 3,
     "metadata": {},
     "output_type": "execute_result"
    }
   ],
   "source": [
    "\"\"\"\n",
    "        nltk.download(\"stopwords\"): Descarga el dataset de stopwords que vamos a utilizar\n",
    "        nltk.download(\"punkt\"): Descarga el dataset de signos de puntuacion\n",
    "        nltk.download(\"names\"): Descarga el dataset de nombres propios\n",
    "        nltk.download(\"wordnet\"): Descarga una dependencia para el lematizador\n",
    "        nltk.download(\"averaged_perceptron_tagger\"): Descarga un dataset para las categorias gramaticales\n",
    "        nltk.download(\"tagsets\"): Descarga otro dataset para categorias gramaticales\n",
    "\"\"\"\n",
    "\n",
    "nltk.download(\"stopwords\")\n",
    "nltk.download(\"punkt\")\n",
    "nltk.download(\"names\")\n",
    "nltk.download(\"wordnet\")\n",
    "nltk.download(\"averaged_perceptron_tagger\")\n",
    "nltk.download(\"tagsets\")"
   ]
  },
  {
   "cell_type": "code",
   "execution_count": 4,
   "metadata": {},
   "outputs": [],
   "source": [
    "def game_tokenizer(string):\n",
    "    string = string.replace(\"/\",\" \")\n",
    "    string = string.replace(\"-\",\" \")\n",
    "    string = string.replace(\"game\",\"\").strip()\n",
    "    string = word_tokenize(string)\n",
    "\n",
    "    return string"
   ]
  },
  {
   "cell_type": "code",
   "execution_count": 5,
   "metadata": {},
   "outputs": [],
   "source": [
    "# De la libreria NLTK guardamos en una variable las stopwrds del idioma ingles\n",
    "stopwords = nltk.corpus.stopwords.words('english')\n",
    "# Tambien los nombres proios \n",
    "names = nltk.corpus.names.words()\n",
    "# Aqui se crea una lista de palabra que no queremos, esta contiene nombre de juegos y mas\n",
    "words_unwanted = [\"ds3\", \"n't\",\"'while\", \"turn-based\", \"zelda\",\"game\",\"gameplay\",\"ml\",\n",
    "                  \"play\", \"even\", \"player\", \"also\", \"much\", \"dont\", \"cause\", \"somewhat\", \"im\"]\n",
    "words_unwanted += str(list(df['Game'].apply(game_tokenizer))).replace(\"[\",\"\").replace(\"]\",\"\").replace(\"'\",\"\").split(\",\")\n",
    "words_unwanted = list(set(words_unwanted))\n",
    "words_unwanted = list(map(lambda x: x.strip(), words_unwanted))"
   ]
  },
  {
   "cell_type": "code",
   "execution_count": 6,
   "metadata": {},
   "outputs": [],
   "source": [
    "def tokenizer(string):\n",
    "    \"\"\" \n",
    "        Entrada: str\n",
    "        retorna: list\n",
    "\n",
    "        Tokenizamos la entrada. \n",
    "        Gramar servira para seleccionar las palabras que pertenexcan a las categorias gramaticales que deseamos.\n",
    "        Luego de filtrar cada token, lo pasamos a minuscula y lo lematizamos.\n",
    "    \"\"\"\n",
    "    string = [i for i in string if i not in stringlib.punctuation]\n",
    "    string = ''.join(string)\n",
    "\n",
    "    string = word_tokenize(string)\n",
    "    gramar = ['NN','JJ','VB','RB']\n",
    "    tokens = []\n",
    "    selected_tokens = []\n",
    "\n",
    "    for token in string:\n",
    "        if token in names or not(token.isalpha()) or token in words_unwanted:\n",
    "            continue\n",
    "        token = token.lower()\n",
    "        if token in stopwords:\n",
    "            continue\n",
    "        token = WordNetLemmatizer().lemmatize(token)\n",
    "        if token in words_unwanted:\n",
    "            continue\n",
    "        tokens.append(token)\n",
    "\n",
    "    tokens = pos_tag(tokens)\n",
    "    selected_tokens = []\n",
    "\n",
    "    for i in tokens:\n",
    "        if i[1] in gramar:\n",
    "            selected_tokens.append(i[0])\n",
    "    return selected_tokens"
   ]
  },
  {
   "cell_type": "code",
   "execution_count": 34,
   "metadata": {},
   "outputs": [
    {
     "data": {
      "image/png": "[encoded data removed]",
      "text/plain": [
       "<Figure size 640x480 with 1 Axes>"
      ]
     },
     "metadata": {},
     "output_type": "display_data"
    },
    {
     "name": "stdout",
     "output_type": "stream",
     "text": [
      "Category\n",
      "Positive    2042\n",
      "Negative     512\n",
      "Name: count, dtype: int64\n"
     ]
    },
    {
     "data": {
      "image/png": "[encoded data removed]",
      "text/plain": [
       "<Figure size 640x480 with 1 Axes>"
      ]
     },
     "metadata": {},
     "output_type": "display_data"
    },
    {
     "name": "stdout",
     "output_type": "stream",
     "text": [
      "Category\n",
      "Negative    512\n",
      "Positive    512\n",
      "Name: count, dtype: int64\n"
     ]
    }
   ],
   "source": [
    "def prepare(df):\n",
    "    \"\"\"\n",
    "    Prepara el dataframe antes de crear el clasificador de texto.\n",
    "\n",
    "    Args:\n",
    "        df(pd.DataFrame): Tabla con los comentarios y sus calificaciones.\n",
    "\n",
    "    Returns:\n",
    "        df(pd.DataFrame): Tabla preprocesada.\n",
    "\n",
    "    \"\"\"\n",
    "\n",
    "# Filtramos las reviews por idioma, seleccionando solo las que estan en ingles\n",
    "    df['Language'] = df['Menssage'].apply(lambda x: langid.classify(str(x))[0])\n",
    "    df = df[df['Language'] == 'en']\n",
    "\n",
    "# De las dos categorias mas grandes se saca una muestra del tamanio de la categoria mas chica y eliminamos filas nulas\n",
    "    plt.bar(df['Category'].value_counts().index,df['Category'].value_counts())\n",
    "    plt.title(\"Datos Originales\")\n",
    "    plt.show()\n",
    "    print(df['Category'].value_counts())\n",
    "    \n",
    "    distribution_min = df['Category'].value_counts().min()\n",
    "\n",
    "    df = df.dropna()\n",
    "\n",
    "# Debe chequearse (under sampling)\n",
    "    df = pd.concat([\n",
    "        df[df['Category'] == 'Positive'].sample(distribution_min),\n",
    "        #df[df['Category'] == 'Mixed'].sample(distribution_min),\n",
    "        df[df['Category'] == 'Negative'].sample(distribution_min)\n",
    "    ])\n",
    "    df = df.reset_index()\n",
    "    df = df.drop(columns='index')\n",
    "    \n",
    "\n",
    "    plt.bar(df['Category'].value_counts().index,df['Category'].value_counts())\n",
    "    plt.title(\"Datos Under Sampling\")\n",
    "    plt.show()\n",
    "    print(df['Category'].value_counts())\n",
    "    \n",
    "# Tokenizamos y lematizamos\n",
    "    df['Menssage'] = df['Menssage'].apply(tokenizer)\n",
    "\n",
    "# Filtramos los inputs vacios o con un solo token\n",
    "    df = df[~(df['Menssage'].apply(len) < 2)]\n",
    "\n",
    "    df['Menssage'] = df['Menssage'].apply(lambda x: ' '.join(x))\n",
    "\n",
    "    df.reset_index(drop=True)\n",
    "\n",
    "\n",
    "    return df\n",
    "\n",
    "df['Category'] = pd.cut(df['Score'], (0,5,10), labels=['Negative','Positive'])\n",
    "df_p = prepare(df)\n"
   ]
  },
  {
   "cell_type": "code",
   "execution_count": 8,
   "metadata": {},
   "outputs": [],
   "source": [
    "vocabulario = {category: [] for category in df['Category'].unique()}\n",
    "\n",
    "vocabulario_total = []\n",
    "for _, row in df_p.iterrows():\n",
    "  tokens = row[\"Menssage\"].split()\n",
    "  vocabulario[row[\"Category\"]] += tokens  # Se agregan los tokens por categoria\n",
    "  vocabulario_total += tokens # Se agregan todos los tokens en general"
   ]
  },
  {
   "cell_type": "code",
   "execution_count": 9,
   "metadata": {},
   "outputs": [],
   "source": [
    "# De aqui sacamos las siguientes palabras: play, even, player, also, much, dont, cause, somewhat, im\n",
    "most_common_positive = [i[0] for i in FreqDist(vocabulario['Positive']).most_common(500)]\n",
    "#most_common_mixed = [i[0] for i in FreqDist(vocabulario['Mixed']).most_common(500)]\n",
    "most_common_negative = [i[0] for i in FreqDist(vocabulario['Negative']).most_common(500)]\n",
    "\n",
    "#most_common_tokens = list(set(most_common_positive + most_common_mixed + most_common_negative))\n",
    "most_common_tokens = list(set(most_common_positive + most_common_negative))"
   ]
  },
  {
   "cell_type": "code",
   "execution_count": 10,
   "metadata": {},
   "outputs": [],
   "source": [
    "# Guardar los tokens\n",
    "with open(\"./datos/most_common_positive.tokens\", \"wb\") as file:\n",
    "  pickle.dump(most_common_positive, file)\n",
    "\n",
    "# with open(\"./datos/most_common_mixed.tokens\", \"wb\") as file:\n",
    "#   pickle.dump(most_common_mixed, file)\n",
    "\n",
    "with open(\"./datos/most_common_negative.tokens\", \"wb\") as file:\n",
    "  pickle.dump(most_common_negative, file)\n",
    "\n",
    "with open(\"./datos/most_common_tokens.tokens\", \"wb\") as file:\n",
    "  pickle.dump(most_common_tokens, file)"
   ]
  },
  {
   "cell_type": "code",
   "execution_count": 23,
   "metadata": {},
   "outputs": [],
   "source": [
    "from sklearn.feature_extraction.text import TfidfVectorizer\n",
    "from sklearn.naive_bayes import GaussianNB, MultinomialNB\n",
    "from sklearn.tree import DecisionTreeClassifier\n",
    "from sklearn.ensemble import RandomForestClassifier\n",
    "from sklearn.model_selection import train_test_split, cross_val_score\n",
    "from sklearn.metrics import accuracy_score, recall_score, precision_score, confusion_matrix, classification_report\n",
    "\n",
    "with open(\"./datos/most_common_tokens.tokens\", \"rb\") as file:\n",
    "    vocabulary = pickle.load(file)\n",
    "\n",
    "vectorizer = TfidfVectorizer(vocabulary=vocabulary)\n",
    "\n",
    "X = vectorizer.fit_transform(df_p['Menssage'])\n",
    "y = df_p['Category']\n",
    "\n",
    "X_train, X_test, y_train, y_test = train_test_split(X, y, test_size=0.2, random_state=0)\n"
   ]
  },
  {
   "cell_type": "code",
   "execution_count": 28,
   "metadata": {},
   "outputs": [
    {
     "name": "stdout",
     "output_type": "stream",
     "text": [
      "0.6989130434782608\n",
      "GaussianNB()\n",
      "Accuracy\n",
      " 0.6881188118811881\n",
      "Precision\n",
      " [0.66666667 0.72368421]\n",
      "Recall\n",
      " [0.8        0.56701031]\n",
      "\n",
      "\n",
      "0.8046583850931677\n",
      "MultinomialNB()\n",
      "Accuracy\n",
      " 0.7524752475247525\n",
      "Precision\n",
      " [0.73913043 0.77011494]\n",
      "Recall\n",
      " [0.80952381 0.69072165]\n",
      "\n",
      "\n",
      "0.569611801242236\n",
      "DecisionTreeClassifier(max_depth=4)\n",
      "Accuracy\n",
      " 0.5594059405940595\n",
      "Precision\n",
      " [0.80769231 0.52272727]\n",
      "Recall\n",
      " [0.2        0.94845361]\n",
      "\n",
      "\n",
      "0.7275776397515529\n",
      "RandomForestClassifier()\n",
      "Accuracy\n",
      " 0.7029702970297029\n",
      "Precision\n",
      " [0.71428571 0.69072165]\n",
      "Recall\n",
      " [0.71428571 0.69072165]\n",
      "\n",
      "\n"
     ]
    }
   ],
   "source": [
    "models = [GaussianNB(), MultinomialNB(), DecisionTreeClassifier(max_depth=4), RandomForestClassifier()]\n",
    "\n",
    "for model in models:\n",
    "    \n",
    "    model.fit(X_train.toarray(), y_train)\n",
    "\n",
    "    y_pred = model.predict(X_test.toarray())\n",
    "\n",
    "\n",
    "    print(f\"{model}\")\n",
    "    print(cross_val_score(model,X_train.toarray(), y_train, cv=5, scoring='accuracy').mean(),'\\n')\n",
    "    \n",
    "    print(\"Accuracy\\n\",accuracy_score(y_test, y_pred))\n",
    "    print(\"Precision\\n\", precision_score(y_test, y_pred, average=None) )\n",
    "    print(\"Recall\\n\",recall_score(y_test, y_pred, average=None))\n",
    "    model.classes_\n",
    "    print(\"\\n\")"
   ]
  },
  {
   "cell_type": "code",
   "execution_count": 33,
   "metadata": {},
   "outputs": [
    {
     "data": {
      "image/png": "[encoded data removed]",
      "text/plain": [
       "<Figure size 640x480 with 1 Axes>"
      ]
     },
     "metadata": {},
     "output_type": "display_data"
    },
    {
     "name": "stdout",
     "output_type": "stream",
     "text": [
      "Category\n",
      "Positive    2464\n",
      "Negative     574\n",
      "Name: count, dtype: int64\n"
     ]
    }
   ],
   "source": []
  },
  {
   "cell_type": "code",
   "execution_count": 13,
   "metadata": {},
   "outputs": [
    {
     "name": "stdout",
     "output_type": "stream",
     "text": [
      "Accuracy\n",
      " 0.6881188118811881\n",
      "Precision\n",
      " [0.66666667 0.72368421]\n",
      "Recall\n",
      " [0.8        0.56701031]\n"
     ]
    },
    {
     "data": {
      "text/plain": [
       "array(['Negative', 'Positive'], dtype='<U8')"
      ]
     },
     "execution_count": 13,
     "metadata": {},
     "output_type": "execute_result"
    }
   ],
   "source": [
    "\n",
    "\n",
    "\n",
    "# Resultado con tres clases\n",
    "\n",
    "# Accuracy\n",
    "#  0.6186186186186187\n",
    "# Precision\n",
    "#  [0.61538462 0.61904762 0.61971831]\n",
    "# Recall\n",
    "#  [0.37037037 0.72222222 0.75213675]\n",
    "\n",
    "# array(['Mixed', 'Negative', 'Positive'], dtype='<U8')"
   ]
  },
  {
   "cell_type": "code",
   "execution_count": 15,
   "metadata": {},
   "outputs": [],
   "source": [
    "cm = confusion_matrix(y_pred, y_test)\n"
   ]
  }
 ],
 "metadata": {
  "kernelspec": {
   "display_name": "Python 3",
   "language": "python",
   "name": "python3"
  },
  "language_info": {
   "codemirror_mode": {
    "name": "ipython",
    "version": 3
   },
   "file_extension": ".py",
   "mimetype": "text/x-python",
   "name": "python",
   "nbconvert_exporter": "python",
   "pygments_lexer": "ipython3",
   "version": "3.10.4"
  }
 },
 "nbformat": 4,
 "nbformat_minor": 2
}
