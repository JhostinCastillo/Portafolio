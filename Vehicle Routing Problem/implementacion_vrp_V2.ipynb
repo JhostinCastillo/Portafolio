{
 "cells": [
  {
   "cell_type": "markdown",
   "metadata": {},
   "source": [
    "## **Depedencias**"
   ]
  },
  {
   "cell_type": "code",
   "execution_count": 1,
   "metadata": {},
   "outputs": [],
   "source": [
    "import pandas as pd\n",
    "import matplotlib.pyplot as plt\n",
    "import numpy as np\n",
    "from sklearn.cluster import KMeans\n",
    "from sklearn.cluster import DBSCAN\n",
    "from sklearn.utils._param_validation import InvalidParameterError"
   ]
  },
  {
   "cell_type": "markdown",
   "metadata": {},
   "source": [
    "## **Carga de datos**"
   ]
  },
  {
   "cell_type": "code",
   "execution_count": 2,
   "metadata": {},
   "outputs": [],
   "source": [
    "def importar(problem):\n",
    "    \"\"\"\n",
    "        Args:\n",
    "            problem: int (numero del problema)\n",
    "        Return:\n",
    "            problem_set: df (se encuentra la capacidad del vehiculo para cada probema\n",
    "            y la ruta de los nodos y la matriz de distancia correspondiente a cada problema)\n",
    "\n",
    "            nodes: df (se encuentra las coordenadas x y de cada nodo y la demanda)\n",
    "\n",
    "            distance_matrix: df (distancia entre nodos)\n",
    "\n",
    "            capacity: capacidad del vehiculo para cada problema\n",
    "\n",
    "        Esta funcion lee un excel y extrae de un parquet los problemas a resolver.\n",
    "    \"\"\"\n",
    "\n",
    "\n",
    "    problem_set = pd.read_excel('raw_problemset.xlsx')\n",
    "    nodes = pd.read_parquet(problem_set.loc[problem,'nodes'])\n",
    "    distance_matrix = pd.read_parquet(problem_set.loc[problem,'distance_matrix'])\n",
    "    capacity = problem_set.loc[problem,'vehicle_capacity']\n",
    "\n",
    "    return problem_set,nodes,distance_matrix,capacity\n"
   ]
  },
  {
   "cell_type": "code",
   "execution_count": 3,
   "metadata": {},
   "outputs": [],
   "source": [
    "# Cargo los datos necesarios\n",
    "problem_set,nodes,distance_matrix,capacity = importar(4)"
   ]
  },
  {
   "cell_type": "markdown",
   "metadata": {},
   "source": [
    "## **Graficar**"
   ]
  },
  {
   "cell_type": "code",
   "execution_count": 4,
   "metadata": {},
   "outputs": [],
   "source": [
    "def graficar_problema(nodes):\n",
    "    \"\"\"\n",
    "        Args:\n",
    "            DataFrame nodes\n",
    "        Return:\n",
    "            None\n",
    "\n",
    "        Esta funcion esta hecha para graficar los nodos aun sin clusterizar.\n",
    "    \"\"\"\n",
    "\n",
    "    loc_x_nodes = nodes['x'][1:]\n",
    "    loc_y_nodes = nodes['y'][1:]\n",
    "    loc_x_depot = nodes['x'][0]\n",
    "    loc_y_depot = nodes['y'][0]\n",
    "    plt.figure(figsize=(10,4.5),facecolor='#2C2E2F')\n",
    "    ax = plt.gca()\n",
    "    ax.set_facecolor((0.11, 0.11, 0.11))\n",
    "    plt.tick_params(axis='x', colors='dodgerblue')\n",
    "    plt.tick_params(axis='y', colors='dodgerblue')\n",
    "    plt.scatter(loc_x_nodes,loc_y_nodes,color='purple',marker='v')\n",
    "    plt.scatter(loc_x_depot,loc_y_depot,color='red',marker='D')\n",
    "\n",
    "    plt.annotate(\"Depot\",(loc_x_depot+1,loc_y_depot-3),color='white')"
   ]
  },
  {
   "cell_type": "code",
   "execution_count": 5,
   "metadata": {},
   "outputs": [],
   "source": [
    "def graficar_clusters(nodes,labels):\n",
    "    \"\"\"\n",
    "        Args: \n",
    "            Dataframe nodes, np.Array labels\n",
    "        Returns:\n",
    "            None\n",
    "            \n",
    "        Esta funcion esta hecha para graficar los clusters especificamente.\n",
    "    \"\"\"\n",
    "    plt.figure(figsize=(10,4.5),facecolor='#2C2E2F')\n",
    "    ax = plt.gca()\n",
    "    ax.set_facecolor((0.11, 0.11, 0.11))\n",
    "    plt.tick_params(axis='x', colors='dodgerblue')\n",
    "    plt.tick_params(axis='y', colors='dodgerblue')\n",
    "    colors = plt.cm.Spectral(np.linspace(0, 1, len(np.unique(labels))))\n",
    "    for i in range(len(nodes)):\n",
    "        if i != 0:\n",
    "            plt.scatter(nodes['x'][i], nodes['y'][i], color=colors[labels[i]],marker='v')\n",
    "        else:\n",
    "            plt.scatter(nodes['x'][i], nodes['y'][i], color='red',marker='D')\n",
    "\n",
    "    plt.annotate(\"Depot\",(nodes['x'][0]+1,nodes['y'][0]-3),color='white')\n",
    "    plt.show\n"
   ]
  },
  {
   "cell_type": "code",
   "execution_count": 6,
   "metadata": {},
   "outputs": [
    {
     "data": {
      "image/png": "[encoded data removed]",
      "text/plain": [
       "<Figure size 1000x450 with 1 Axes>"
      ]
     },
     "metadata": {},
     "output_type": "display_data"
    }
   ],
   "source": [
    "graficar_problema(nodes)\n",
    "# Nodos aun sin clusterizar"
   ]
  },
  {
   "cell_type": "code",
   "execution_count": 507,
   "metadata": {},
   "outputs": [
    {
     "data": {
      "text/plain": [
       "array([[  0.        ,  88.86506625, 112.43220179,  49.04079934,\n",
       "        106.40488711,  88.60022573,  55.6596802 ,  62.07253821,\n",
       "          9.        ,  69.46221995],\n",
       "       [ 88.86506625,   0.        ,  50.15974482,  44.20407221,\n",
       "         54.12023651,  52.20153254,  71.16881339,  93.04837452,\n",
       "         80.41144197,  24.73863375],\n",
       "       [112.43220179,  50.15974482,   0.        ,  83.00602388,\n",
       "         11.18033989,  28.16025568,  68.15423685,  84.72307832,\n",
       "        106.21675951,  48.33218389],\n",
       "       [ 49.04079934,  44.20407221,  83.00602388,   0.        ,\n",
       "         81.49233093,  69.11584478,  60.20797289,  79.39773297,\n",
       "         40.04996879,  34.78505426],\n",
       "       [106.40488711,  54.12023651,  11.18033989,  81.49233093,\n",
       "          0.        ,  18.86796226,  59.05929224,  74.46475676,\n",
       "        100.8017857 ,  46.87216658],\n",
       "       [ 88.60022573,  52.20153254,  28.16025568,  69.11584478,\n",
       "         18.86796226,   0.        ,  40.24922359,  56.71860365,\n",
       "         83.52843827,  36.67424164],\n",
       "       [ 55.6596802 ,  71.16881339,  68.15423685,  60.20797289,\n",
       "         59.05929224,  40.24922359,   0.        ,  21.9317122 ,\n",
       "         53.60037313,  46.61544808],\n",
       "       [ 62.07253821,  93.04837452,  84.72307832,  79.39773297,\n",
       "         74.46475676,  56.71860365,  21.9317122 ,   0.        ,\n",
       "         63.15061362,  68.54195795],\n",
       "       [  9.        ,  80.41144197, 106.21675951,  40.04996879,\n",
       "        100.8017857 ,  83.52843827,  53.60037313,  63.15061362,\n",
       "          0.        ,  61.85466838],\n",
       "       [ 69.46221995,  24.73863375,  48.33218389,  34.78505426,\n",
       "         46.87216658,  36.67424164,  46.61544808,  68.54195795,\n",
       "         61.85466838,   0.        ]])"
      ]
     },
     "execution_count": 507,
     "metadata": {},
     "output_type": "execute_result"
    }
   ],
   "source": [
    "distance_matrix.to_numpy()"
   ]
  },
  {
   "cell_type": "markdown",
   "metadata": {},
   "source": [
    "## **ACO**"
   ]
  },
  {
   "cell_type": "code",
   "execution_count": 7,
   "metadata": {},
   "outputs": [],
   "source": [
    "def aco(distance_matrix):\n",
    "    d = distance_matrix\n",
    "    tau = np.ones(d.shape)\n",
    "    tau_d = np.zeros(d.shape)\n",
    "    neta = 1/d\n",
    "\n",
    "    alpha = 1\n",
    "    beta = 1\n",
    "    rho = 0.5\n",
    "    max_iters = 255\n",
    "    ants = 100\n",
    "\n",
    "    initial_state = 0\n",
    "\n",
    "    paths = []\n",
    "    distances = []\n",
    "    for iter in range(max_iters):\n",
    "        for ant in range(ants):\n",
    "            path = []\n",
    "            unvisited = [i for i in range(d.shape[0])]\n",
    "            idx = initial_state\n",
    "            unvisited.remove(idx)\n",
    "            path.append(idx)\n",
    "            while len(unvisited) != 0:\n",
    "                w = tau**alpha * neta**beta\n",
    "                w = w[unvisited]\n",
    "                p = w/sum(w)\n",
    "                idx = np.random.choice(unvisited, p=p[:,idx])\n",
    "                unvisited.remove(idx)\n",
    "                path.append(idx)\n",
    "            path.append(initial_state)\n",
    "            dt = 0\n",
    "            for i in range(len(path)-1):\n",
    "                dt += d[path[i], path[i+1]]\n",
    "            dp = 1/dt\n",
    "            for i in range(len(path)-1):\n",
    "                tau_d[path[i], path[i+1]] += dp\n",
    "                tau_d[path[i+1], path[i]] += dp\n",
    "            paths.append(path)\n",
    "            distances.append(dt)\n",
    "        tau = (1 - rho) * tau + tau_d\n",
    "\n",
    "    best_path = paths[distances.index(min(distances))]\n",
    "    best_distance = min(distances)\n",
    "\n",
    "    return best_path,best_distance\n",
    "    "
   ]
  },
  {
   "cell_type": "markdown",
   "metadata": {},
   "source": [
    "## **Clusterizar**"
   ]
  },
  {
   "cell_type": "code",
   "execution_count": 8,
   "metadata": {},
   "outputs": [],
   "source": [
    "def clusterizar(eps,min_samples):\n",
    "    \"\"\"\n",
    "        Args:\n",
    "            eps (Hiperparametro a ajustar de DBSCAN)\n",
    "        Returns:\n",
    "            labels (Etiquetas de cada cluster)\n",
    "\n",
    "        Se clusteriza con DBSCAN y contiene a epsilon flexible para ajustar el modelo \n",
    "        segun el problema.\n",
    "    \"\"\"\n",
    "    dbscan = DBSCAN(eps=eps,min_samples=min_samples)\n",
    "    labels = dbscan.fit_predict(distance_matrix)\n",
    "\n",
    "    return labels"
   ]
  },
  {
   "cell_type": "code",
   "execution_count": 9,
   "metadata": {},
   "outputs": [],
   "source": [
    "def estructurar_clusters(labels):\n",
    "    \"\"\"\n",
    "        Args:\n",
    "            labels\n",
    "        Returns:\n",
    "            clusters_unicos: list (contiene los las etiquetas unicas de cada cluster)\n",
    "            c_demanda: dict (contiene la demanda que hay en cada cluster)\n",
    "            c_nodes: dict (contine los nodos dividivos por clusters)\n",
    "\n",
    "        Esta funcion convierte los clusters en estructuras de datos mejor trabajables.\n",
    "    \"\"\"\n",
    "    clusters_unicos = []\n",
    "    c_demanda = {}\n",
    "    c_nodes = {}\n",
    "    best_paths = {}\n",
    "    best_distances = {}\n",
    "\n",
    "# Se crea lista con la etiquetas unicas de los clusters y se crean las claves de los dicts\n",
    "    for i in np.unique(labels): \n",
    "        clusters_unicos.append(i)\n",
    "        if i not in c_demanda:\n",
    "            c_demanda[i] = []\n",
    "            c_nodes[i] = []\n",
    "            best_paths = {}\n",
    "            best_distances = {}\n",
    "\n",
    "# Dict con key = etiqueta del cluster y Value = list con demandas\n",
    "    for i in range(len(labels)): c_demanda[labels[i]].append(int(nodes['demand'][i]))\n",
    "# Dict con key = etiqueta del cluster y Value = list con nodos\n",
    "    for i in range(len(labels)): c_nodes[labels[i]].append(i)\n",
    "# Se aniade el depot a todos los objetos\n",
    "    for i in c_demanda.values(): \n",
    "        if 0 not in i: \n",
    "            i.append(0)\n",
    "        i.sort()\n",
    "    for i in c_nodes.values(): \n",
    "        if 0 not in i: \n",
    "            i.append(0)\n",
    "        i.sort()\n",
    "        \n",
    "    return best_paths,best_distances,clusters_unicos,c_demanda,c_nodes"
   ]
  },
  {
   "cell_type": "code",
   "execution_count": 10,
   "metadata": {},
   "outputs": [],
   "source": [
    "def restriccion(c_demanda,c_nodes):\n",
    "  \"\"\"\n",
    "    Args:\n",
    "        c_demanda: dict (contiene la demanda que hay en cada cluster)\n",
    "        c_nodes: dict (contine los nodos dividivos por clusters)\n",
    "    Returns:\n",
    "        c_demanda: dict (contiene la demanda que hay en cada cluster) pero aqui si cumplen\n",
    "        la restriccion si es que antes no las cumplian\n",
    "        c_nodes: dict (contine los nodos dividivos por clusters) pero aqui si cumplen\n",
    "        la restriccion si es que antes no las cumplian\n",
    "\n",
    "        Hace que los clusters cumplan la restriccion.\n",
    "  \"\"\"\n",
    "  for j in range(len(c_demanda)):\n",
    "    for i in range(len(c_demanda)):\n",
    "      while sum(c_demanda[i]) > capacity:\n",
    "          c_demanda[i + 1].append(c_demanda[i].pop(1))\n",
    "          c_nodes[i + 1].append(c_nodes[i].pop(1))\n",
    "  \n",
    "  return c_demanda,c_nodes    "
   ]
  },
  {
   "cell_type": "code",
   "execution_count": 11,
   "metadata": {},
   "outputs": [],
   "source": [
    "epsilon = 200\n",
    "min_samples = 1"
   ]
  },
  {
   "cell_type": "code",
   "execution_count": 12,
   "metadata": {},
   "outputs": [],
   "source": [
    "def c_optimos(c_demanda,c_nodes,epsilonx,min_samplesx):\n",
    "    \"\"\"\"\"\"\n",
    "\n",
    "    labels = clusterizar(epsilonx,min_samplesx)\n",
    "    best_paths,best_distances,clusters_unicos,c_demanda,c_nodes = estructurar_clusters(labels)\n",
    "\n",
    "    try:\n",
    "        restriccion(c_demanda,c_nodes)\n",
    "    except KeyError as e:       \n",
    "        epsilonx -= 1\n",
    "        c_demanda,c_nodes,labels = c_optimos(c_demanda,c_nodes,epsilonx,min_samplesx)\n",
    "\n",
    "    \n",
    "    return c_demanda,c_nodes,labels\n"
   ]
  },
  {
   "cell_type": "markdown",
   "metadata": {},
   "source": [
    "## **Prueba**"
   ]
  },
  {
   "cell_type": "code",
   "execution_count": 13,
   "metadata": {},
   "outputs": [
    {
     "data": {
      "image/png": "[encoded data removed]",
      "text/plain": [
       "<Figure size 1000x450 with 1 Axes>"
      ]
     },
     "metadata": {},
     "output_type": "display_data"
    }
   ],
   "source": [
    "graficar_problema(nodes)"
   ]
  },
  {
   "cell_type": "code",
   "execution_count": 14,
   "metadata": {},
   "outputs": [],
   "source": [
    "labels = clusterizar(epsilon,min_samples)\n"
   ]
  },
  {
   "cell_type": "code",
   "execution_count": 15,
   "metadata": {},
   "outputs": [
    {
     "data": {
      "text/plain": [
       "array([0, 0, 0, 0, 0, 0, 0, 0, 0, 0], dtype=int64)"
      ]
     },
     "execution_count": 15,
     "metadata": {},
     "output_type": "execute_result"
    }
   ],
   "source": [
    "labels"
   ]
  },
  {
   "cell_type": "code",
   "execution_count": 16,
   "metadata": {},
   "outputs": [],
   "source": [
    "best_paths,best_distances,clusters_unicos,c_demanda,c_nodes = estructurar_clusters(labels)"
   ]
  },
  {
   "cell_type": "code",
   "execution_count": 17,
   "metadata": {},
   "outputs": [],
   "source": [
    "demanda_optima,nodos_optimos,labels_optimos = c_optimos(c_demanda,c_nodes,epsilon,min_samples)"
   ]
  },
  {
   "cell_type": "code",
   "execution_count": 18,
   "metadata": {},
   "outputs": [
    {
     "data": {
      "text/plain": [
       "{0: [0, 8], 1: [0, 5, 9], 2: [0, 3, 1, 2, 4], 3: [0, 6, 7]}"
      ]
     },
     "execution_count": 18,
     "metadata": {},
     "output_type": "execute_result"
    }
   ],
   "source": [
    "nodos_optimos"
   ]
  },
  {
   "cell_type": "code",
   "execution_count": 20,
   "metadata": {},
   "outputs": [
    {
     "data": {
      "text/html": [
       "<div>\n",
       "<style scoped>\n",
       "    .dataframe tbody tr th:only-of-type {\n",
       "        vertical-align: middle;\n",
       "    }\n",
       "\n",
       "    .dataframe tbody tr th {\n",
       "        vertical-align: top;\n",
       "    }\n",
       "\n",
       "    .dataframe thead th {\n",
       "        text-align: right;\n",
       "    }\n",
       "</style>\n",
       "<table border=\"1\" class=\"dataframe\">\n",
       "  <thead>\n",
       "    <tr style=\"text-align: right;\">\n",
       "      <th></th>\n",
       "      <th>0</th>\n",
       "      <th>1</th>\n",
       "      <th>2</th>\n",
       "      <th>3</th>\n",
       "      <th>4</th>\n",
       "      <th>5</th>\n",
       "      <th>6</th>\n",
       "      <th>7</th>\n",
       "      <th>8</th>\n",
       "      <th>9</th>\n",
       "    </tr>\n",
       "  </thead>\n",
       "  <tbody>\n",
       "    <tr>\n",
       "      <th>0</th>\n",
       "      <td>0.000000</td>\n",
       "      <td>88.865066</td>\n",
       "      <td>112.432202</td>\n",
       "      <td>49.040799</td>\n",
       "      <td>106.404887</td>\n",
       "      <td>88.600226</td>\n",
       "      <td>55.659680</td>\n",
       "      <td>62.072538</td>\n",
       "      <td>9.000000</td>\n",
       "      <td>69.462220</td>\n",
       "    </tr>\n",
       "    <tr>\n",
       "      <th>1</th>\n",
       "      <td>88.865066</td>\n",
       "      <td>0.000000</td>\n",
       "      <td>50.159745</td>\n",
       "      <td>44.204072</td>\n",
       "      <td>54.120237</td>\n",
       "      <td>52.201533</td>\n",
       "      <td>71.168813</td>\n",
       "      <td>93.048375</td>\n",
       "      <td>80.411442</td>\n",
       "      <td>24.738634</td>\n",
       "    </tr>\n",
       "    <tr>\n",
       "      <th>2</th>\n",
       "      <td>112.432202</td>\n",
       "      <td>50.159745</td>\n",
       "      <td>0.000000</td>\n",
       "      <td>83.006024</td>\n",
       "      <td>11.180340</td>\n",
       "      <td>28.160256</td>\n",
       "      <td>68.154237</td>\n",
       "      <td>84.723078</td>\n",
       "      <td>106.216760</td>\n",
       "      <td>48.332184</td>\n",
       "    </tr>\n",
       "    <tr>\n",
       "      <th>3</th>\n",
       "      <td>49.040799</td>\n",
       "      <td>44.204072</td>\n",
       "      <td>83.006024</td>\n",
       "      <td>0.000000</td>\n",
       "      <td>81.492331</td>\n",
       "      <td>69.115845</td>\n",
       "      <td>60.207973</td>\n",
       "      <td>79.397733</td>\n",
       "      <td>40.049969</td>\n",
       "      <td>34.785054</td>\n",
       "    </tr>\n",
       "    <tr>\n",
       "      <th>4</th>\n",
       "      <td>106.404887</td>\n",
       "      <td>54.120237</td>\n",
       "      <td>11.180340</td>\n",
       "      <td>81.492331</td>\n",
       "      <td>0.000000</td>\n",
       "      <td>18.867962</td>\n",
       "      <td>59.059292</td>\n",
       "      <td>74.464757</td>\n",
       "      <td>100.801786</td>\n",
       "      <td>46.872167</td>\n",
       "    </tr>\n",
       "    <tr>\n",
       "      <th>5</th>\n",
       "      <td>88.600226</td>\n",
       "      <td>52.201533</td>\n",
       "      <td>28.160256</td>\n",
       "      <td>69.115845</td>\n",
       "      <td>18.867962</td>\n",
       "      <td>0.000000</td>\n",
       "      <td>40.249224</td>\n",
       "      <td>56.718604</td>\n",
       "      <td>83.528438</td>\n",
       "      <td>36.674242</td>\n",
       "    </tr>\n",
       "    <tr>\n",
       "      <th>6</th>\n",
       "      <td>55.659680</td>\n",
       "      <td>71.168813</td>\n",
       "      <td>68.154237</td>\n",
       "      <td>60.207973</td>\n",
       "      <td>59.059292</td>\n",
       "      <td>40.249224</td>\n",
       "      <td>0.000000</td>\n",
       "      <td>21.931712</td>\n",
       "      <td>53.600373</td>\n",
       "      <td>46.615448</td>\n",
       "    </tr>\n",
       "    <tr>\n",
       "      <th>7</th>\n",
       "      <td>62.072538</td>\n",
       "      <td>93.048375</td>\n",
       "      <td>84.723078</td>\n",
       "      <td>79.397733</td>\n",
       "      <td>74.464757</td>\n",
       "      <td>56.718604</td>\n",
       "      <td>21.931712</td>\n",
       "      <td>0.000000</td>\n",
       "      <td>63.150614</td>\n",
       "      <td>68.541958</td>\n",
       "    </tr>\n",
       "    <tr>\n",
       "      <th>8</th>\n",
       "      <td>9.000000</td>\n",
       "      <td>80.411442</td>\n",
       "      <td>106.216760</td>\n",
       "      <td>40.049969</td>\n",
       "      <td>100.801786</td>\n",
       "      <td>83.528438</td>\n",
       "      <td>53.600373</td>\n",
       "      <td>63.150614</td>\n",
       "      <td>0.000000</td>\n",
       "      <td>61.854668</td>\n",
       "    </tr>\n",
       "    <tr>\n",
       "      <th>9</th>\n",
       "      <td>69.462220</td>\n",
       "      <td>24.738634</td>\n",
       "      <td>48.332184</td>\n",
       "      <td>34.785054</td>\n",
       "      <td>46.872167</td>\n",
       "      <td>36.674242</td>\n",
       "      <td>46.615448</td>\n",
       "      <td>68.541958</td>\n",
       "      <td>61.854668</td>\n",
       "      <td>0.000000</td>\n",
       "    </tr>\n",
       "  </tbody>\n",
       "</table>\n",
       "</div>"
      ],
      "text/plain": [
       "            0          1           2          3           4          5  \\\n",
       "0    0.000000  88.865066  112.432202  49.040799  106.404887  88.600226   \n",
       "1   88.865066   0.000000   50.159745  44.204072   54.120237  52.201533   \n",
       "2  112.432202  50.159745    0.000000  83.006024   11.180340  28.160256   \n",
       "3   49.040799  44.204072   83.006024   0.000000   81.492331  69.115845   \n",
       "4  106.404887  54.120237   11.180340  81.492331    0.000000  18.867962   \n",
       "5   88.600226  52.201533   28.160256  69.115845   18.867962   0.000000   \n",
       "6   55.659680  71.168813   68.154237  60.207973   59.059292  40.249224   \n",
       "7   62.072538  93.048375   84.723078  79.397733   74.464757  56.718604   \n",
       "8    9.000000  80.411442  106.216760  40.049969  100.801786  83.528438   \n",
       "9   69.462220  24.738634   48.332184  34.785054   46.872167  36.674242   \n",
       "\n",
       "           6          7           8          9  \n",
       "0  55.659680  62.072538    9.000000  69.462220  \n",
       "1  71.168813  93.048375   80.411442  24.738634  \n",
       "2  68.154237  84.723078  106.216760  48.332184  \n",
       "3  60.207973  79.397733   40.049969  34.785054  \n",
       "4  59.059292  74.464757  100.801786  46.872167  \n",
       "5  40.249224  56.718604   83.528438  36.674242  \n",
       "6   0.000000  21.931712   53.600373  46.615448  \n",
       "7  21.931712   0.000000   63.150614  68.541958  \n",
       "8  53.600373  63.150614    0.000000  61.854668  \n",
       "9  46.615448  68.541958   61.854668   0.000000  "
      ]
     },
     "execution_count": 20,
     "metadata": {},
     "output_type": "execute_result"
    }
   ],
   "source": [
    "distance_matrix"
   ]
  },
  {
   "cell_type": "code",
   "execution_count": 19,
   "metadata": {},
   "outputs": [
    {
     "data": {
      "text/plain": [
       "[array([[0., 9.],\n",
       "        [9., 0.]]),\n",
       " array([[ 0.        , 88.60022573, 69.46221995],\n",
       "        [88.60022573,  0.        , 36.67424164],\n",
       "        [69.46221995, 36.67424164,  0.        ]]),\n",
       " array([[  0.        ,  49.04079934,  88.86506625, 112.43220179,\n",
       "         106.40488711],\n",
       "        [ 49.04079934,   0.        ,  44.20407221,  83.00602388,\n",
       "          81.49233093],\n",
       "        [ 88.86506625,  44.20407221,   0.        ,  50.15974482,\n",
       "          54.12023651],\n",
       "        [112.43220179,  83.00602388,  50.15974482,   0.        ,\n",
       "          11.18033989],\n",
       "        [106.40488711,  81.49233093,  54.12023651,  11.18033989,\n",
       "           0.        ]]),\n",
       " array([[ 0.        , 55.6596802 , 62.07253821],\n",
       "        [55.6596802 ,  0.        , 21.9317122 ],\n",
       "        [62.07253821, 21.9317122 ,  0.        ]])]"
      ]
     },
     "execution_count": 19,
     "metadata": {},
     "output_type": "execute_result"
    }
   ],
   "source": [
    "c_matriz = []\n",
    "for cluster in nodos_optimos.values():\n",
    "    m = np.zeros((len(cluster),len(cluster)))\n",
    "    for i in range(len(cluster)):\n",
    "        for j in range(len(cluster)):\n",
    "            m[i][j] = distance_matrix[cluster[i]][cluster[j]]\n",
    "    c_matriz.append(m)\n",
    "c_matriz\n"
   ]
  },
  {
   "cell_type": "code",
   "execution_count": 21,
   "metadata": {},
   "outputs": [
    {
     "name": "stderr",
     "output_type": "stream",
     "text": [
      "C:\\Users\\jhost\\AppData\\Local\\Temp\\ipykernel_19608\\306382276.py:5: RuntimeWarning: divide by zero encountered in divide\n",
      "  neta = 1/d\n",
      "C:\\Users\\jhost\\AppData\\Local\\Temp\\ipykernel_19608\\306382276.py:27: RuntimeWarning: invalid value encountered in divide\n",
      "  p = w/sum(w)\n"
     ]
    }
   ],
   "source": [
    "resultados = {}\n",
    "td = 0\n",
    "final_path = []\n",
    "for i in range(len(c_matriz)):\n",
    "    path,distance = aco(c_matriz[i])\n",
    "    for p in path:\n",
    "        final_path.append(nodos_optimos[i][p])\n",
    "    resultados[str(final_path)] = distance\n",
    "    final_path = []\n",
    "    td += distance\n",
    "\n",
    "resultados[\"Distancia total\"] = td"
   ]
  },
  {
   "cell_type": "markdown",
   "metadata": {},
   "source": [
    "## **resultados**"
   ]
  },
  {
   "cell_type": "markdown",
   "metadata": {},
   "source": [
    "<!-- 949.9646572727152\n",
    "820.7748855175732\n",
    "669.8921789240044\n",
    "669.8921789240044\n",
    "613.3904612943021\n",
    "700.592067562538\n",
    "732.417313108826\n",
    "643.2278112834713\n",
    "643.2278112834713\n",
    "643.2278112834713\n",
    "643.2278112834713\n",
    "654.5983835723416\n",
    "816.3888144398749\n",
    "564.4392312035721\n",
    "488.1214705440268\n",
    "437.80935728701127\n",
    "339.8806639512759\n",
    "350.9581653684131\n",
    "335.7377038818937 -->"
   ]
  },
  {
   "cell_type": "code",
   "execution_count": 22,
   "metadata": {},
   "outputs": [
    {
     "data": {
      "text/plain": [
       "{'[0, 8, 0]': 18.0,\n",
       " '[0, 9, 5, 0]': 194.73668732238028,\n",
       " '[0, 4, 2, 1, 3, 0]': 260.98984336080355,\n",
       " '[0, 7, 6, 0]': 139.66393061111827,\n",
       " 'Distancia total': 613.3904612943021}"
      ]
     },
     "execution_count": 22,
     "metadata": {},
     "output_type": "execute_result"
    },
    {
     "data": {
      "image/png": "[encoded data removed]",
      "text/plain": [
       "<Figure size 1000x450 with 1 Axes>"
      ]
     },
     "metadata": {},
     "output_type": "display_data"
    }
   ],
   "source": [
    "graficar_clusters(nodes,labels_optimos)\n",
    "resultados"
   ]
  },
  {
   "cell_type": "code",
   "execution_count": 23,
   "metadata": {},
   "outputs": [
    {
     "data": {
      "text/plain": [
       "{0: [0, 40], 1: [0, 24, 36], 2: [0, 18, 10, 18, 20], 3: [0, 19, 39]}"
      ]
     },
     "execution_count": 23,
     "metadata": {},
     "output_type": "execute_result"
    }
   ],
   "source": [
    "demanda_optima"
   ]
  },
  {
   "cell_type": "code",
   "execution_count": 24,
   "metadata": {},
   "outputs": [
    {
     "name": "stdout",
     "output_type": "stream",
     "text": [
      "False\n",
      "False\n",
      "False\n",
      "False\n"
     ]
    }
   ],
   "source": [
    "for i in range(4):\n",
    " print(sum(demanda_optima[i]) > capacity)    "
   ]
  }
 ],
 "metadata": {
  "kernelspec": {
   "display_name": "venvpln",
   "language": "python",
   "name": "python3"
  },
  "language_info": {
   "codemirror_mode": {
    "name": "ipython",
    "version": 3
   },
   "file_extension": ".py",
   "mimetype": "text/x-python",
   "name": "python",
   "nbconvert_exporter": "python",
   "pygments_lexer": "ipython3",
   "version": "3.11.4"
  }
 },
 "nbformat": 4,
 "nbformat_minor": 2
}
