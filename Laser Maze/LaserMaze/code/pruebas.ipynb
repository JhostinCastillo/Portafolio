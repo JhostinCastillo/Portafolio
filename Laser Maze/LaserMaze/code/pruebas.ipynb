{
 "cells": [
  {
   "cell_type": "code",
   "execution_count": 1,
   "metadata": {},
   "outputs": [],
   "source": [
    "from laser import Laser\n",
    "from fichas import Plano, Curvo, Divisor,CheckPoint,Meta\n",
    "from tablero import Tablero"
   ]
  },
  {
   "cell_type": "code",
   "execution_count": 2,
   "metadata": {},
   "outputs": [
    {
     "ename": "FileNotFoundError",
     "evalue": "[Errno 2] No such file or directory: '../niveles/prub.txt'",
     "output_type": "error",
     "traceback": [
      "\u001b[1;31m---------------------------------------------------------------------------\u001b[0m",
      "\u001b[1;31mFileNotFoundError\u001b[0m                         Traceback (most recent call last)",
      "Cell \u001b[1;32mIn[2], line 1\u001b[0m\n\u001b[1;32m----> 1\u001b[0m \u001b[38;5;28;01mwith\u001b[39;00m \u001b[38;5;28;43mopen\u001b[39;49m\u001b[43m(\u001b[49m\u001b[38;5;124;43m'\u001b[39;49m\u001b[38;5;124;43m../niveles/prub.txt\u001b[39;49m\u001b[38;5;124;43m'\u001b[39;49m\u001b[43m,\u001b[49m\u001b[43m \u001b[49m\u001b[38;5;124;43m'\u001b[39;49m\u001b[38;5;124;43mr\u001b[39;49m\u001b[38;5;124;43m'\u001b[39;49m\u001b[43m)\u001b[49m \u001b[38;5;28;01mas\u001b[39;00m archivo:\n\u001b[0;32m      2\u001b[0m     partida \u001b[38;5;241m=\u001b[39m [line\u001b[38;5;241m.\u001b[39mstrip()\u001b[38;5;241m.\u001b[39msplit() \u001b[38;5;28;01mfor\u001b[39;00m line \u001b[38;5;129;01min\u001b[39;00m archivo\u001b[38;5;241m.\u001b[39mreadlines()]\n\u001b[0;32m      4\u001b[0m Tablero(partida)\u001b[38;5;241m.\u001b[39mimprimir_tablero()\n",
      "File \u001b[1;32m~\\AppData\\Roaming\\Python\\Python310\\site-packages\\IPython\\core\\interactiveshell.py:284\u001b[0m, in \u001b[0;36m_modified_open\u001b[1;34m(file, *args, **kwargs)\u001b[0m\n\u001b[0;32m    277\u001b[0m \u001b[38;5;28;01mif\u001b[39;00m file \u001b[38;5;129;01min\u001b[39;00m {\u001b[38;5;241m0\u001b[39m, \u001b[38;5;241m1\u001b[39m, \u001b[38;5;241m2\u001b[39m}:\n\u001b[0;32m    278\u001b[0m     \u001b[38;5;28;01mraise\u001b[39;00m \u001b[38;5;167;01mValueError\u001b[39;00m(\n\u001b[0;32m    279\u001b[0m         \u001b[38;5;124mf\u001b[39m\u001b[38;5;124m\"\u001b[39m\u001b[38;5;124mIPython won\u001b[39m\u001b[38;5;124m'\u001b[39m\u001b[38;5;124mt let you open fd=\u001b[39m\u001b[38;5;132;01m{\u001b[39;00mfile\u001b[38;5;132;01m}\u001b[39;00m\u001b[38;5;124m by default \u001b[39m\u001b[38;5;124m\"\u001b[39m\n\u001b[0;32m    280\u001b[0m         \u001b[38;5;124m\"\u001b[39m\u001b[38;5;124mas it is likely to crash IPython. If you know what you are doing, \u001b[39m\u001b[38;5;124m\"\u001b[39m\n\u001b[0;32m    281\u001b[0m         \u001b[38;5;124m\"\u001b[39m\u001b[38;5;124myou can use builtins\u001b[39m\u001b[38;5;124m'\u001b[39m\u001b[38;5;124m open.\u001b[39m\u001b[38;5;124m\"\u001b[39m\n\u001b[0;32m    282\u001b[0m     )\n\u001b[1;32m--> 284\u001b[0m \u001b[38;5;28;01mreturn\u001b[39;00m io_open(file, \u001b[38;5;241m*\u001b[39margs, \u001b[38;5;241m*\u001b[39m\u001b[38;5;241m*\u001b[39mkwargs)\n",
      "\u001b[1;31mFileNotFoundError\u001b[0m: [Errno 2] No such file or directory: '../niveles/prub.txt'"
     ]
    }
   ],
   "source": [
    "with open('../niveles/prub.txt', 'r') as archivo:\n",
    "    partida = [line.strip().split() for line in archivo.readlines()]\n",
    "\n",
    "Tablero(partida).imprimir_tablero()"
   ]
  },
  {
   "cell_type": "code",
   "execution_count": null,
   "metadata": {},
   "outputs": [
    {
     "name": "stdout",
     "output_type": "stream",
     "text": [
      "(1, 0)\n"
     ]
    }
   ],
   "source": [
    "# Probando espejos\n",
    "plano = Plano((0,3), '2')\n",
    "plano.rotar_45()\n",
    "laser = Laser((0,1),(0,3))\n",
    "\n",
    "print(plano.reflejar(laser).direccion)"
   ]
  },
  {
   "cell_type": "code",
   "execution_count": null,
   "metadata": {},
   "outputs": [
    {
     "data": {
      "text/plain": [
       "True"
      ]
     },
     "execution_count": 54,
     "metadata": {},
     "output_type": "execute_result"
    }
   ],
   "source": [
    "# Probando checkpoint\n",
    "\n",
    "laser1 = Laser((1,0),(0,3))\n",
    "checkpoint = CheckPoint((0,3))\n",
    "checkpoint.rotar_90()\n",
    "\n",
    "checkpoint.check(laser1)\n"
   ]
  },
  {
   "cell_type": "code",
   "execution_count": null,
   "metadata": {},
   "outputs": [
    {
     "name": "stdout",
     "output_type": "stream",
     "text": [
      "\u001b[30m\\\\\u001b[0m\n",
      "\u001b[31mRojo\u001b[0m\n",
      "\u001b[32mVerde\u001b[0m\n",
      "\u001b[33mAmarillo\u001b[0m\n",
      "\u001b[34mAzul\u001b[0m\n",
      "\u001b[35mMagenta\u001b[0m\n",
      "\u001b[36mCian\u001b[0m\n",
      "\u001b[37mBlanco\u001b[0m\n",
      "\u001b[90mNegro brillante\u001b[0m\n",
      "\u001b[91m↙↖↘↑↓↗←→\u001b[0m\n",
      "\u001b[92mVerde brillante\u001b[0m\n",
      "\u001b[93mAmarillo brillante\u001b[0m\n",
      "\u001b[94mAzul brillante\u001b[0m\n",
      "\u001b[95mMagenta brillante\u001b[0m\n",
      "\u001b[96mCian brillante\u001b[0m\n",
      "\u001b[97mBlanco brillante\u001b[0m\n"
     ]
    }
   ],
   "source": [
    "print(\"\\033[30m\" + r'\\\\' + \"\\033[0m\")\n",
    "print(\"\\033[31m\" + \"Rojo\" + \"\\033[0m\")\n",
    "print(\"\\033[32m\" + \"Verde\" + \"\\033[0m\")\n",
    "print(\"\\033[33m\" + \"Amarillo\" + \"\\033[0m\")\n",
    "print(\"\\033[34m\" + \"Azul\" + \"\\033[0m\")\n",
    "print(\"\\033[35m\" + \"Magenta\" + \"\\033[0m\")\n",
    "print(\"\\033[36m\" + \"Cian\" + \"\\033[0m\")\n",
    "print(\"\\033[37m\" + \"Blanco\" + \"\\033[0m\")\n",
    "\n",
    "# Colores brillantes\n",
    "print(\"\\033[90m\" + \"Negro brillante\" + \"\\033[0m\")\n",
    "print(\"\\033[91m\" + \"↙↖↘↑↓↗←→\" + \"\\033[0m\")\n",
    "print(\"\\033[92m\" + \"Verde brillante\" + \"\\033[0m\")\n",
    "print(\"\\033[93m\" + \"Amarillo brillante\" + \"\\033[0m\")\n",
    "print(\"\\033[94m\" + \"Azul brillante\" + \"\\033[0m\")\n",
    "print(\"\\033[95m\" + \"Magenta brillante\" + \"\\033[0m\")\n",
    "print(\"\\033[96m\" + \"Cian brillante\" + \"\\033[0m\")\n",
    "print(\"\\033[97m\" + \"Blanco brillante\" + \"\\033[0m\")"
   ]
  },
  {
   "cell_type": "code",
   "execution_count": null,
   "metadata": {},
   "outputs": [
    {
     "data": {
      "text/plain": [
       "3"
      ]
     },
     "execution_count": 19,
     "metadata": {},
     "output_type": "execute_result"
    }
   ],
   "source": [
    "t = ['Si','No']\n",
    "a = t.copy()\n",
    "\n",
    "a.pop()\n",
    "\n",
    "a\n",
    "t\n",
    "\n",
    "d = {'m':2, 'S':3}\n",
    "\n",
    "v1, v2 = d.values()\n",
    "\n",
    "v2"
   ]
  },
  {
   "cell_type": "code",
   "execution_count": 1,
   "metadata": {},
   "outputs": [],
   "source": [
    "import sys\n",
    "import os\n",
    "import menu\n",
    "import juego\n",
    "import json\n",
    "#sys.path.append(os.path.abspath(os.path.join(os.path.dirname('fila'), '..', '..')))\n",
    "# from Busqueda.estructuras import *\n",
    "# from Busqueda.buscadores import *\n",
    "import Busqueda\n",
    "\n",
    "def obtener_nodo(nivel):\n",
    "\n",
    "    ruta_base = os.getcwd().replace(\"\\\\code\",\"\\\\\")\n",
    "\n",
    "    with open(ruta_base+r'niveles\\nivel{0}\\tablero.txt'.format(nivel), 'r') as archivo:\n",
    "                                partida = [line.strip().split() for line in archivo.readlines()]\n",
    "\n",
    "    with open(ruta_base+r'niveles\\nivel{0}\\herramientas.json'.format(nivel), 'r') as archivo:\n",
    "                                herramientas = json.load(archivo)\n",
    "\n",
    "    with open(ruta_base+r'niveles\\nivel{0}\\inicio.json'.format(nivel), 'r') as archivo:\n",
    "                                inicio = json.load(archivo)\n",
    "\n",
    "                    \n",
    "    game = juego.Game(partida, herramientas, inicio)\n",
    "    os.system('cls')\n",
    "    nodo = Busqueda.estructuras.Nodo((inicio, herramientas), peso=0)\n",
    "    \n",
    "    return (nodo, game)\n",
    "\n",
    "\n",
    "\n"
   ]
  },
  {
   "cell_type": "code",
   "execution_count": 2,
   "metadata": {},
   "outputs": [
    {
     "name": "stdout",
     "output_type": "stream",
     "text": [
      "[({'me': [{'j': 3, 'i': 2, 'grado': 135}], 'L': [{'j': 0, 'i': 0, 'grado': 0}]}, {'P2': 1}), ({'me': [{'j': 3, 'i': 2, 'grado': 135}], 'L': [{'j': 0, 'i': 0, 'grado': 0}], 'P2': [{'j': 1, 'i': 0, 'grado': 45}]}, {}), ({'me': [{'j': 3, 'i': 2, 'grado': 135}], 'L': [{'j': 0, 'i': 0, 'grado': 0}], 'P2': [{'j': 3, 'i': 0, 'grado': 45}]}, {})]\n",
      "7\n",
      "[({'me': [{'j': 3, 'i': 2, 'grado': 135}], 'L': [{'j': 0, 'i': 0, 'grado': 0}]}, {'P2': 1}), ({'me': [{'j': 3, 'i': 2, 'grado': 135}], 'L': [{'j': 0, 'i': 0, 'grado': 0}], 'P2': [{'j': 1, 'i': 0, 'grado': 315}]}, {}), ({'me': [{'j': 3, 'i': 2, 'grado': 135}], 'L': [{'j': 0, 'i': 0, 'grado': 0}], 'P2': [{'j': 4, 'i': 4, 'grado': 315}]}, {}), ({'me': [{'j': 3, 'i': 2, 'grado': 135}], 'L': [{'j': 0, 'i': 0, 'grado': 0}], 'P2': [{'j': 4, 'i': 4, 'grado': 225}]}, {}), ({'me': [{'j': 3, 'i': 2, 'grado': 135}], 'L': [{'j': 0, 'i': 0, 'grado': 0}], 'P2': [{'j': 2, 'i': 0, 'grado': 225}]}, {})]\n",
      "65\n",
      "[({'me': [{'j': 3, 'i': 2, 'grado': 135}], 'L': [{'j': 0, 'i': 0, 'grado': 0}]}, {'P2': 1}), ({'me': [{'j': 3, 'i': 2, 'grado': 135}], 'L': [{'j': 0, 'i': 0, 'grado': 0}], 'P2': [{'j': 1, 'i': 0, 'grado': 45}]}, {}), ({'me': [{'j': 3, 'i': 2, 'grado': 135}], 'L': [{'j': 0, 'i': 0, 'grado': 0}], 'P2': [{'j': 4, 'i': 4, 'grado': 45}]}, {}), ({'me': [{'j': 3, 'i': 2, 'grado': 135}], 'L': [{'j': 0, 'i': 0, 'grado': 0}], 'P2': [{'j': 4, 'i': 4, 'grado': 135}]}, {}), ({'me': [{'j': 3, 'i': 2, 'grado': 135}], 'L': [{'j': 0, 'i': 0, 'grado': 0}], 'P2': [{'j': 2, 'i': 0, 'grado': 135}]}, {})]\n",
      "29\n"
     ]
    }
   ],
   "source": [
    "import Busqueda.buscadores\n",
    "\n",
    "nodo, game = obtener_nodo('1')\n",
    "\n",
    "bfs = Busqueda.buscadores.BFS(nodo, game.probar_estado, game.generar_estados)\n",
    "bfs.search()\n",
    "\n",
    "print(bfs.show_path())\n",
    "print(len(bfs.show_explored()))\n",
    "\n",
    "nodo, game = obtener_nodo('1')\n",
    "\n",
    "dfs = Busqueda.buscadores.DFS(nodo, game.probar_estado, game.generar_estados, depth=5)\n",
    "dfs.search()\n",
    "\n",
    "print(dfs.show_path())\n",
    "print(len(dfs.show_explored()))\n",
    "\n",
    "\n",
    "nodo, game = obtener_nodo('1')\n",
    "\n",
    "ucs = Busqueda.buscadores.UCS(nodo, game.probar_estado, game.generar_estados)\n",
    "ucs.search()\n",
    "\n",
    "print(ucs.show_path())\n",
    "print(len(ucs.show_explored()))"
   ]
  },
  {
   "cell_type": "code",
   "execution_count": 4,
   "metadata": {},
   "outputs": [
    {
     "name": "stdout",
     "output_type": "stream",
     "text": [
      "[({'me': [{'j': 3, 'i': 2, 'grado': 45}, {'j': 1, 'i': 4, 'grado': 45}], 'L': [{'j': 0, 'i': 0, 'grado': 0}]}, {'P2': 1, 'D2': 1}), ({'me': [{'j': 3, 'i': 2, 'grado': 45}, {'j': 1, 'i': 4, 'grado': 45}], 'L': [{'j': 0, 'i': 0, 'grado': 0}], 'P2': [{'j': 1, 'i': 0, 'grado': 45}]}, {'D2': 1}), ({'me': [{'j': 3, 'i': 2, 'grado': 45}, {'j': 1, 'i': 4, 'grado': 45}], 'L': [{'j': 0, 'i': 0, 'grado': 0}], 'P2': [{'j': 4, 'i': 0, 'grado': 45}]}, {'D2': 1})]\n",
      "12\n",
      "[({'me': [{'j': 3, 'i': 2, 'grado': 45}, {'j': 1, 'i': 4, 'grado': 45}], 'L': [{'j': 0, 'i': 0, 'grado': 0}]}, {'P2': 1, 'D2': 1}), ({'me': [{'j': 3, 'i': 2, 'grado': 45}, {'j': 1, 'i': 4, 'grado': 45}], 'L': [{'j': 0, 'i': 0, 'grado': 0}], 'D2': [{'j': 1, 'i': 0, 'grado': 315}]}, {'P2': 1}), ({'me': [{'j': 3, 'i': 2, 'grado': 45}, {'j': 1, 'i': 4, 'grado': 45}], 'L': [{'j': 0, 'i': 0, 'grado': 0}], 'D2': [{'j': 1, 'i': 0, 'grado': 315}], 'P2': [{'j': 2, 'i': 0, 'grado': 315}]}, {}), ({'me': [{'j': 3, 'i': 2, 'grado': 45}, {'j': 1, 'i': 4, 'grado': 45}], 'L': [{'j': 0, 'i': 0, 'grado': 0}], 'D2': [{'j': 1, 'i': 0, 'grado': 315}], 'P2': [{'j': 4, 'i': 4, 'grado': 315}]}, {}), ({'me': [{'j': 3, 'i': 2, 'grado': 45}, {'j': 1, 'i': 4, 'grado': 45}], 'L': [{'j': 0, 'i': 0, 'grado': 0}], 'D2': [{'j': 1, 'i': 0, 'grado': 315}], 'P2': [{'j': 4, 'i': 4, 'grado': 225}]}, {}), ({'me': [{'j': 3, 'i': 2, 'grado': 45}, {'j': 1, 'i': 4, 'grado': 45}], 'L': [{'j': 0, 'i': 0, 'grado': 0}], 'D2': [{'j': 1, 'i': 0, 'grado': 315}], 'P2': [{'j': 1, 'i': 1, 'grado': 225}]}, {})]\n",
      "21\n"
     ]
    }
   ],
   "source": [
    "nodo, game = obtener_nodo('2')\n",
    "\n",
    "bfs = Busqueda.buscadores.BFS(nodo, game.probar_estado, game.generar_estados)\n",
    "bfs.search()\n",
    "\n",
    "print(bfs.show_path())\n",
    "print(len(bfs.show_explored()))\n",
    "\n",
    "nodo, game = obtener_nodo('2')\n",
    "\n",
    "dfs = Busqueda.buscadores.DFS(nodo, game.probar_estado, game.generar_estados, depth=5)\n",
    "dfs.search()\n",
    "\n",
    "print(dfs.show_path())\n",
    "print(len(dfs.show_explored()))\n",
    "\n",
    "\n",
    "nodo, game = obtener_nodo('2')\n",
    "\n",
    "ucs = Busqueda.buscadores.UCS(nodo, game.probar_estado, game.generar_estados)\n",
    "ucs.search()\n",
    "\n",
    "print(ucs.show_path())\n",
    "print(len(ucs.show_explored()))"
   ]
  },
  {
   "cell_type": "code",
   "execution_count": 8,
   "metadata": {},
   "outputs": [
    {
     "name": "stdout",
     "output_type": "stream",
     "text": [
      "3\n",
      "5\n",
      "5\n"
     ]
    },
    {
     "data": {
      "text/plain": [
       "[({'me': [{'j': 3, 'i': 2, 'grado': 135}],\n",
       "   'L': [{'j': 0, 'i': 0, 'grado': 0}]},\n",
       "  {'P2': 1}),\n",
       " ({'me': [{'j': 3, 'i': 2, 'grado': 135}],\n",
       "   'L': [{'j': 0, 'i': 0, 'grado': 0}],\n",
       "   'P2': [{'j': 1, 'i': 0, 'grado': 45}]},\n",
       "  {}),\n",
       " ({'me': [{'j': 3, 'i': 2, 'grado': 135}],\n",
       "   'L': [{'j': 0, 'i': 0, 'grado': 0}],\n",
       "   'P2': [{'j': 3, 'i': 0, 'grado': 45}]},\n",
       "  {})]"
      ]
     },
     "execution_count": 8,
     "metadata": {},
     "output_type": "execute_result"
    }
   ],
   "source": [
    "print(len(bfs.show_path()))\n",
    "print(len(dfs.show_path()))\n",
    "print(len(ucs.show_path()))\n",
    "\n",
    "bfs.show_path()"
   ]
  }
 ],
 "metadata": {
  "kernelspec": {
   "display_name": "Python 3",
   "language": "python",
   "name": "python3"
  },
  "language_info": {
   "codemirror_mode": {
    "name": "ipython",
    "version": 3
   },
   "file_extension": ".py",
   "mimetype": "text/x-python",
   "name": "python",
   "nbconvert_exporter": "python",
   "pygments_lexer": "ipython3",
   "version": "3.10.4"
  }
 },
 "nbformat": 4,
 "nbformat_minor": 2
}
